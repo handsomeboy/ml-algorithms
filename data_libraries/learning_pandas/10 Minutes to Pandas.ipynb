{
 "cells": [
  {
   "cell_type": "code",
   "execution_count": 1,
   "metadata": {
    "collapsed": true
   },
   "outputs": [],
   "source": [
    "import pandas as pd\n",
    "import numpy as np\n",
    "import matplotlib.pyplot as plt"
   ]
  },
  {
   "cell_type": "code",
   "execution_count": 4,
   "metadata": {
    "collapsed": false
   },
   "outputs": [
    {
     "data": {
      "text/html": [
       "<div>\n",
       "<table border=\"1\" class=\"dataframe\">\n",
       "  <thead>\n",
       "    <tr style=\"text-align: right;\">\n",
       "      <th></th>\n",
       "      <th>A</th>\n",
       "      <th>B</th>\n",
       "      <th>C</th>\n",
       "      <th>D</th>\n",
       "    </tr>\n",
       "  </thead>\n",
       "  <tbody>\n",
       "    <tr>\n",
       "      <th>2013-01-01</th>\n",
       "      <td>1.434842</td>\n",
       "      <td>0.164035</td>\n",
       "      <td>1.099480</td>\n",
       "      <td>1.564774</td>\n",
       "    </tr>\n",
       "    <tr>\n",
       "      <th>2013-01-02</th>\n",
       "      <td>1.750655</td>\n",
       "      <td>-0.229159</td>\n",
       "      <td>-0.001455</td>\n",
       "      <td>-0.364463</td>\n",
       "    </tr>\n",
       "    <tr>\n",
       "      <th>2013-01-03</th>\n",
       "      <td>0.773283</td>\n",
       "      <td>-0.599245</td>\n",
       "      <td>-0.521495</td>\n",
       "      <td>2.112135</td>\n",
       "    </tr>\n",
       "    <tr>\n",
       "      <th>2013-01-04</th>\n",
       "      <td>0.798060</td>\n",
       "      <td>-0.388058</td>\n",
       "      <td>-0.391900</td>\n",
       "      <td>0.468589</td>\n",
       "    </tr>\n",
       "    <tr>\n",
       "      <th>2013-01-05</th>\n",
       "      <td>0.868358</td>\n",
       "      <td>-0.488198</td>\n",
       "      <td>0.094651</td>\n",
       "      <td>-0.025355</td>\n",
       "    </tr>\n",
       "    <tr>\n",
       "      <th>2013-01-06</th>\n",
       "      <td>-1.409111</td>\n",
       "      <td>-0.059399</td>\n",
       "      <td>2.420744</td>\n",
       "      <td>-1.072156</td>\n",
       "    </tr>\n",
       "  </tbody>\n",
       "</table>\n",
       "</div>"
      ],
      "text/plain": [
       "                   A         B         C         D\n",
       "2013-01-01  1.434842  0.164035  1.099480  1.564774\n",
       "2013-01-02  1.750655 -0.229159 -0.001455 -0.364463\n",
       "2013-01-03  0.773283 -0.599245 -0.521495  2.112135\n",
       "2013-01-04  0.798060 -0.388058 -0.391900  0.468589\n",
       "2013-01-05  0.868358 -0.488198  0.094651 -0.025355\n",
       "2013-01-06 -1.409111 -0.059399  2.420744 -1.072156"
      ]
     },
     "execution_count": 4,
     "metadata": {},
     "output_type": "execute_result"
    }
   ],
   "source": [
    "# Object creation. \n",
    "\n",
    "# create a series object with a 1d array. \n",
    "s = pd.Series([1,3,5,np.nan,6.8])\n",
    "s\n",
    "\n",
    "# create a DataFrame\n",
    "\n",
    "dates = pd.date_range('20130101', periods=6)\n",
    "df = pd.DataFrame(np.random.randn(6,4), index=dates, columns=list('ABCD'))\n",
    "df"
   ]
  },
  {
   "cell_type": "code",
   "execution_count": 5,
   "metadata": {
    "collapsed": false
   },
   "outputs": [
    {
     "data": {
      "text/plain": [
       "A             int64\n",
       "B    datetime64[ns]\n",
       "C           float32\n",
       "D             int32\n",
       "E          category\n",
       "F            object\n",
       "dtype: object"
      ]
     },
     "execution_count": 5,
     "metadata": {},
     "output_type": "execute_result"
    }
   ],
   "source": [
    "df2 = pd.DataFrame({\n",
    "        'A': 1,\n",
    "        'B': pd.Timestamp('20170211'),\n",
    "        'C': pd.Series(1,index=list(range(4)), dtype='float32'),\n",
    "        'D': np.array([3]*4, dtype='int32'),\n",
    "        'E': pd.Categorical([\"test\", \"train\", \"test\", \"train\"]),\n",
    "        'F': 'foo'\n",
    "    })\n",
    "df2\n",
    "df2.dtypes\n"
   ]
  },
  {
   "cell_type": "code",
   "execution_count": 6,
   "metadata": {
    "collapsed": false
   },
   "outputs": [
    {
     "data": {
      "text/html": [
       "<div>\n",
       "<table border=\"1\" class=\"dataframe\">\n",
       "  <thead>\n",
       "    <tr style=\"text-align: right;\">\n",
       "      <th></th>\n",
       "      <th>A</th>\n",
       "      <th>B</th>\n",
       "      <th>C</th>\n",
       "      <th>D</th>\n",
       "    </tr>\n",
       "  </thead>\n",
       "  <tbody>\n",
       "    <tr>\n",
       "      <th>2013-01-01</th>\n",
       "      <td>1.434842</td>\n",
       "      <td>0.164035</td>\n",
       "      <td>1.099480</td>\n",
       "      <td>1.564774</td>\n",
       "    </tr>\n",
       "    <tr>\n",
       "      <th>2013-01-02</th>\n",
       "      <td>1.750655</td>\n",
       "      <td>-0.229159</td>\n",
       "      <td>-0.001455</td>\n",
       "      <td>-0.364463</td>\n",
       "    </tr>\n",
       "    <tr>\n",
       "      <th>2013-01-03</th>\n",
       "      <td>0.773283</td>\n",
       "      <td>-0.599245</td>\n",
       "      <td>-0.521495</td>\n",
       "      <td>2.112135</td>\n",
       "    </tr>\n",
       "    <tr>\n",
       "      <th>2013-01-04</th>\n",
       "      <td>0.798060</td>\n",
       "      <td>-0.388058</td>\n",
       "      <td>-0.391900</td>\n",
       "      <td>0.468589</td>\n",
       "    </tr>\n",
       "    <tr>\n",
       "      <th>2013-01-05</th>\n",
       "      <td>0.868358</td>\n",
       "      <td>-0.488198</td>\n",
       "      <td>0.094651</td>\n",
       "      <td>-0.025355</td>\n",
       "    </tr>\n",
       "  </tbody>\n",
       "</table>\n",
       "</div>"
      ],
      "text/plain": [
       "                   A         B         C         D\n",
       "2013-01-01  1.434842  0.164035  1.099480  1.564774\n",
       "2013-01-02  1.750655 -0.229159 -0.001455 -0.364463\n",
       "2013-01-03  0.773283 -0.599245 -0.521495  2.112135\n",
       "2013-01-04  0.798060 -0.388058 -0.391900  0.468589\n",
       "2013-01-05  0.868358 -0.488198  0.094651 -0.025355"
      ]
     },
     "execution_count": 6,
     "metadata": {},
     "output_type": "execute_result"
    }
   ],
   "source": [
    "# viewing datra\n",
    "df.head()\n"
   ]
  },
  {
   "cell_type": "code",
   "execution_count": 7,
   "metadata": {
    "collapsed": false
   },
   "outputs": [
    {
     "data": {
      "text/html": [
       "<div>\n",
       "<table border=\"1\" class=\"dataframe\">\n",
       "  <thead>\n",
       "    <tr style=\"text-align: right;\">\n",
       "      <th></th>\n",
       "      <th>2013-01-01 00:00:00</th>\n",
       "      <th>2013-01-02 00:00:00</th>\n",
       "      <th>2013-01-03 00:00:00</th>\n",
       "      <th>2013-01-04 00:00:00</th>\n",
       "      <th>2013-01-05 00:00:00</th>\n",
       "      <th>2013-01-06 00:00:00</th>\n",
       "    </tr>\n",
       "  </thead>\n",
       "  <tbody>\n",
       "    <tr>\n",
       "      <th>A</th>\n",
       "      <td>1.434842</td>\n",
       "      <td>1.750655</td>\n",
       "      <td>0.773283</td>\n",
       "      <td>0.798060</td>\n",
       "      <td>0.868358</td>\n",
       "      <td>-1.409111</td>\n",
       "    </tr>\n",
       "    <tr>\n",
       "      <th>B</th>\n",
       "      <td>0.164035</td>\n",
       "      <td>-0.229159</td>\n",
       "      <td>-0.599245</td>\n",
       "      <td>-0.388058</td>\n",
       "      <td>-0.488198</td>\n",
       "      <td>-0.059399</td>\n",
       "    </tr>\n",
       "    <tr>\n",
       "      <th>C</th>\n",
       "      <td>1.099480</td>\n",
       "      <td>-0.001455</td>\n",
       "      <td>-0.521495</td>\n",
       "      <td>-0.391900</td>\n",
       "      <td>0.094651</td>\n",
       "      <td>2.420744</td>\n",
       "    </tr>\n",
       "    <tr>\n",
       "      <th>D</th>\n",
       "      <td>1.564774</td>\n",
       "      <td>-0.364463</td>\n",
       "      <td>2.112135</td>\n",
       "      <td>0.468589</td>\n",
       "      <td>-0.025355</td>\n",
       "      <td>-1.072156</td>\n",
       "    </tr>\n",
       "  </tbody>\n",
       "</table>\n",
       "</div>"
      ],
      "text/plain": [
       "   2013-01-01  2013-01-02  2013-01-03  2013-01-04  2013-01-05  2013-01-06\n",
       "A    1.434842    1.750655    0.773283    0.798060    0.868358   -1.409111\n",
       "B    0.164035   -0.229159   -0.599245   -0.388058   -0.488198   -0.059399\n",
       "C    1.099480   -0.001455   -0.521495   -0.391900    0.094651    2.420744\n",
       "D    1.564774   -0.364463    2.112135    0.468589   -0.025355   -1.072156"
      ]
     },
     "execution_count": 7,
     "metadata": {},
     "output_type": "execute_result"
    }
   ],
   "source": [
    "df.T"
   ]
  },
  {
   "cell_type": "code",
   "execution_count": 8,
   "metadata": {
    "collapsed": false
   },
   "outputs": [
    {
     "data": {
      "text/html": [
       "<div>\n",
       "<table border=\"1\" class=\"dataframe\">\n",
       "  <thead>\n",
       "    <tr style=\"text-align: right;\">\n",
       "      <th></th>\n",
       "      <th>A</th>\n",
       "      <th>B</th>\n",
       "      <th>C</th>\n",
       "      <th>D</th>\n",
       "    </tr>\n",
       "  </thead>\n",
       "  <tbody>\n",
       "    <tr>\n",
       "      <th>2013-01-02</th>\n",
       "      <td>1.750655</td>\n",
       "      <td>-0.229159</td>\n",
       "      <td>-0.001455</td>\n",
       "      <td>-0.364463</td>\n",
       "    </tr>\n",
       "    <tr>\n",
       "      <th>2013-01-03</th>\n",
       "      <td>0.773283</td>\n",
       "      <td>-0.599245</td>\n",
       "      <td>-0.521495</td>\n",
       "      <td>2.112135</td>\n",
       "    </tr>\n",
       "    <tr>\n",
       "      <th>2013-01-04</th>\n",
       "      <td>0.798060</td>\n",
       "      <td>-0.388058</td>\n",
       "      <td>-0.391900</td>\n",
       "      <td>0.468589</td>\n",
       "    </tr>\n",
       "    <tr>\n",
       "      <th>2013-01-05</th>\n",
       "      <td>0.868358</td>\n",
       "      <td>-0.488198</td>\n",
       "      <td>0.094651</td>\n",
       "      <td>-0.025355</td>\n",
       "    </tr>\n",
       "    <tr>\n",
       "      <th>2013-01-06</th>\n",
       "      <td>-1.409111</td>\n",
       "      <td>-0.059399</td>\n",
       "      <td>2.420744</td>\n",
       "      <td>-1.072156</td>\n",
       "    </tr>\n",
       "  </tbody>\n",
       "</table>\n",
       "</div>"
      ],
      "text/plain": [
       "                   A         B         C         D\n",
       "2013-01-02  1.750655 -0.229159 -0.001455 -0.364463\n",
       "2013-01-03  0.773283 -0.599245 -0.521495  2.112135\n",
       "2013-01-04  0.798060 -0.388058 -0.391900  0.468589\n",
       "2013-01-05  0.868358 -0.488198  0.094651 -0.025355\n",
       "2013-01-06 -1.409111 -0.059399  2.420744 -1.072156"
      ]
     },
     "execution_count": 8,
     "metadata": {},
     "output_type": "execute_result"
    }
   ],
   "source": [
    "df.tail()"
   ]
  },
  {
   "cell_type": "code",
   "execution_count": 9,
   "metadata": {
    "collapsed": false
   },
   "outputs": [
    {
     "data": {
      "text/html": [
       "<div>\n",
       "<table border=\"1\" class=\"dataframe\">\n",
       "  <thead>\n",
       "    <tr style=\"text-align: right;\">\n",
       "      <th></th>\n",
       "      <th>A</th>\n",
       "      <th>B</th>\n",
       "      <th>C</th>\n",
       "      <th>D</th>\n",
       "    </tr>\n",
       "  </thead>\n",
       "  <tbody>\n",
       "    <tr>\n",
       "      <th>count</th>\n",
       "      <td>6.000000</td>\n",
       "      <td>6.000000</td>\n",
       "      <td>6.000000</td>\n",
       "      <td>6.000000</td>\n",
       "    </tr>\n",
       "    <tr>\n",
       "      <th>mean</th>\n",
       "      <td>0.702681</td>\n",
       "      <td>-0.266670</td>\n",
       "      <td>0.450004</td>\n",
       "      <td>0.447254</td>\n",
       "    </tr>\n",
       "    <tr>\n",
       "      <th>std</th>\n",
       "      <td>1.107746</td>\n",
       "      <td>0.284356</td>\n",
       "      <td>1.121458</td>\n",
       "      <td>1.200998</td>\n",
       "    </tr>\n",
       "    <tr>\n",
       "      <th>min</th>\n",
       "      <td>-1.409111</td>\n",
       "      <td>-0.599245</td>\n",
       "      <td>-0.521495</td>\n",
       "      <td>-1.072156</td>\n",
       "    </tr>\n",
       "    <tr>\n",
       "      <th>25%</th>\n",
       "      <td>0.779477</td>\n",
       "      <td>-0.463163</td>\n",
       "      <td>-0.294288</td>\n",
       "      <td>-0.279686</td>\n",
       "    </tr>\n",
       "    <tr>\n",
       "      <th>50%</th>\n",
       "      <td>0.833209</td>\n",
       "      <td>-0.308608</td>\n",
       "      <td>0.046598</td>\n",
       "      <td>0.221617</td>\n",
       "    </tr>\n",
       "    <tr>\n",
       "      <th>75%</th>\n",
       "      <td>1.293221</td>\n",
       "      <td>-0.101839</td>\n",
       "      <td>0.848272</td>\n",
       "      <td>1.290728</td>\n",
       "    </tr>\n",
       "    <tr>\n",
       "      <th>max</th>\n",
       "      <td>1.750655</td>\n",
       "      <td>0.164035</td>\n",
       "      <td>2.420744</td>\n",
       "      <td>2.112135</td>\n",
       "    </tr>\n",
       "  </tbody>\n",
       "</table>\n",
       "</div>"
      ],
      "text/plain": [
       "              A         B         C         D\n",
       "count  6.000000  6.000000  6.000000  6.000000\n",
       "mean   0.702681 -0.266670  0.450004  0.447254\n",
       "std    1.107746  0.284356  1.121458  1.200998\n",
       "min   -1.409111 -0.599245 -0.521495 -1.072156\n",
       "25%    0.779477 -0.463163 -0.294288 -0.279686\n",
       "50%    0.833209 -0.308608  0.046598  0.221617\n",
       "75%    1.293221 -0.101839  0.848272  1.290728\n",
       "max    1.750655  0.164035  2.420744  2.112135"
      ]
     },
     "execution_count": 9,
     "metadata": {},
     "output_type": "execute_result"
    }
   ],
   "source": [
    "df.describe()"
   ]
  },
  {
   "cell_type": "code",
   "execution_count": 10,
   "metadata": {
    "collapsed": false
   },
   "outputs": [
    {
     "data": {
      "text/html": [
       "<div>\n",
       "<table border=\"1\" class=\"dataframe\">\n",
       "  <thead>\n",
       "    <tr style=\"text-align: right;\">\n",
       "      <th></th>\n",
       "      <th>2013-01-01 00:00:00</th>\n",
       "      <th>2013-01-02 00:00:00</th>\n",
       "      <th>2013-01-03 00:00:00</th>\n",
       "      <th>2013-01-04 00:00:00</th>\n",
       "      <th>2013-01-05 00:00:00</th>\n",
       "      <th>2013-01-06 00:00:00</th>\n",
       "    </tr>\n",
       "  </thead>\n",
       "  <tbody>\n",
       "    <tr>\n",
       "      <th>A</th>\n",
       "      <td>1.434842</td>\n",
       "      <td>1.750655</td>\n",
       "      <td>0.773283</td>\n",
       "      <td>0.798060</td>\n",
       "      <td>0.868358</td>\n",
       "      <td>-1.409111</td>\n",
       "    </tr>\n",
       "    <tr>\n",
       "      <th>B</th>\n",
       "      <td>0.164035</td>\n",
       "      <td>-0.229159</td>\n",
       "      <td>-0.599245</td>\n",
       "      <td>-0.388058</td>\n",
       "      <td>-0.488198</td>\n",
       "      <td>-0.059399</td>\n",
       "    </tr>\n",
       "    <tr>\n",
       "      <th>C</th>\n",
       "      <td>1.099480</td>\n",
       "      <td>-0.001455</td>\n",
       "      <td>-0.521495</td>\n",
       "      <td>-0.391900</td>\n",
       "      <td>0.094651</td>\n",
       "      <td>2.420744</td>\n",
       "    </tr>\n",
       "    <tr>\n",
       "      <th>D</th>\n",
       "      <td>1.564774</td>\n",
       "      <td>-0.364463</td>\n",
       "      <td>2.112135</td>\n",
       "      <td>0.468589</td>\n",
       "      <td>-0.025355</td>\n",
       "      <td>-1.072156</td>\n",
       "    </tr>\n",
       "  </tbody>\n",
       "</table>\n",
       "</div>"
      ],
      "text/plain": [
       "   2013-01-01  2013-01-02  2013-01-03  2013-01-04  2013-01-05  2013-01-06\n",
       "A    1.434842    1.750655    0.773283    0.798060    0.868358   -1.409111\n",
       "B    0.164035   -0.229159   -0.599245   -0.388058   -0.488198   -0.059399\n",
       "C    1.099480   -0.001455   -0.521495   -0.391900    0.094651    2.420744\n",
       "D    1.564774   -0.364463    2.112135    0.468589   -0.025355   -1.072156"
      ]
     },
     "execution_count": 10,
     "metadata": {},
     "output_type": "execute_result"
    }
   ],
   "source": [
    "df.T"
   ]
  },
  {
   "cell_type": "code",
   "execution_count": 11,
   "metadata": {
    "collapsed": false
   },
   "outputs": [
    {
     "data": {
      "text/html": [
       "<div>\n",
       "<table border=\"1\" class=\"dataframe\">\n",
       "  <thead>\n",
       "    <tr style=\"text-align: right;\">\n",
       "      <th></th>\n",
       "      <th>D</th>\n",
       "      <th>C</th>\n",
       "      <th>B</th>\n",
       "      <th>A</th>\n",
       "    </tr>\n",
       "  </thead>\n",
       "  <tbody>\n",
       "    <tr>\n",
       "      <th>2013-01-01</th>\n",
       "      <td>1.564774</td>\n",
       "      <td>1.099480</td>\n",
       "      <td>0.164035</td>\n",
       "      <td>1.434842</td>\n",
       "    </tr>\n",
       "    <tr>\n",
       "      <th>2013-01-02</th>\n",
       "      <td>-0.364463</td>\n",
       "      <td>-0.001455</td>\n",
       "      <td>-0.229159</td>\n",
       "      <td>1.750655</td>\n",
       "    </tr>\n",
       "    <tr>\n",
       "      <th>2013-01-03</th>\n",
       "      <td>2.112135</td>\n",
       "      <td>-0.521495</td>\n",
       "      <td>-0.599245</td>\n",
       "      <td>0.773283</td>\n",
       "    </tr>\n",
       "    <tr>\n",
       "      <th>2013-01-04</th>\n",
       "      <td>0.468589</td>\n",
       "      <td>-0.391900</td>\n",
       "      <td>-0.388058</td>\n",
       "      <td>0.798060</td>\n",
       "    </tr>\n",
       "    <tr>\n",
       "      <th>2013-01-05</th>\n",
       "      <td>-0.025355</td>\n",
       "      <td>0.094651</td>\n",
       "      <td>-0.488198</td>\n",
       "      <td>0.868358</td>\n",
       "    </tr>\n",
       "    <tr>\n",
       "      <th>2013-01-06</th>\n",
       "      <td>-1.072156</td>\n",
       "      <td>2.420744</td>\n",
       "      <td>-0.059399</td>\n",
       "      <td>-1.409111</td>\n",
       "    </tr>\n",
       "  </tbody>\n",
       "</table>\n",
       "</div>"
      ],
      "text/plain": [
       "                   D         C         B         A\n",
       "2013-01-01  1.564774  1.099480  0.164035  1.434842\n",
       "2013-01-02 -0.364463 -0.001455 -0.229159  1.750655\n",
       "2013-01-03  2.112135 -0.521495 -0.599245  0.773283\n",
       "2013-01-04  0.468589 -0.391900 -0.388058  0.798060\n",
       "2013-01-05 -0.025355  0.094651 -0.488198  0.868358\n",
       "2013-01-06 -1.072156  2.420744 -0.059399 -1.409111"
      ]
     },
     "execution_count": 11,
     "metadata": {},
     "output_type": "execute_result"
    }
   ],
   "source": [
    "df.sort_index(axis=1, ascending=False) # sorts index in nonascending order"
   ]
  },
  {
   "cell_type": "code",
   "execution_count": 12,
   "metadata": {
    "collapsed": false
   },
   "outputs": [
    {
     "data": {
      "text/html": [
       "<div>\n",
       "<table border=\"1\" class=\"dataframe\">\n",
       "  <thead>\n",
       "    <tr style=\"text-align: right;\">\n",
       "      <th></th>\n",
       "      <th>A</th>\n",
       "      <th>B</th>\n",
       "      <th>C</th>\n",
       "      <th>D</th>\n",
       "    </tr>\n",
       "  </thead>\n",
       "  <tbody>\n",
       "    <tr>\n",
       "      <th>2013-01-03</th>\n",
       "      <td>0.773283</td>\n",
       "      <td>-0.599245</td>\n",
       "      <td>-0.521495</td>\n",
       "      <td>2.112135</td>\n",
       "    </tr>\n",
       "    <tr>\n",
       "      <th>2013-01-05</th>\n",
       "      <td>0.868358</td>\n",
       "      <td>-0.488198</td>\n",
       "      <td>0.094651</td>\n",
       "      <td>-0.025355</td>\n",
       "    </tr>\n",
       "    <tr>\n",
       "      <th>2013-01-04</th>\n",
       "      <td>0.798060</td>\n",
       "      <td>-0.388058</td>\n",
       "      <td>-0.391900</td>\n",
       "      <td>0.468589</td>\n",
       "    </tr>\n",
       "    <tr>\n",
       "      <th>2013-01-02</th>\n",
       "      <td>1.750655</td>\n",
       "      <td>-0.229159</td>\n",
       "      <td>-0.001455</td>\n",
       "      <td>-0.364463</td>\n",
       "    </tr>\n",
       "    <tr>\n",
       "      <th>2013-01-06</th>\n",
       "      <td>-1.409111</td>\n",
       "      <td>-0.059399</td>\n",
       "      <td>2.420744</td>\n",
       "      <td>-1.072156</td>\n",
       "    </tr>\n",
       "    <tr>\n",
       "      <th>2013-01-01</th>\n",
       "      <td>1.434842</td>\n",
       "      <td>0.164035</td>\n",
       "      <td>1.099480</td>\n",
       "      <td>1.564774</td>\n",
       "    </tr>\n",
       "  </tbody>\n",
       "</table>\n",
       "</div>"
      ],
      "text/plain": [
       "                   A         B         C         D\n",
       "2013-01-03  0.773283 -0.599245 -0.521495  2.112135\n",
       "2013-01-05  0.868358 -0.488198  0.094651 -0.025355\n",
       "2013-01-04  0.798060 -0.388058 -0.391900  0.468589\n",
       "2013-01-02  1.750655 -0.229159 -0.001455 -0.364463\n",
       "2013-01-06 -1.409111 -0.059399  2.420744 -1.072156\n",
       "2013-01-01  1.434842  0.164035  1.099480  1.564774"
      ]
     },
     "execution_count": 12,
     "metadata": {},
     "output_type": "execute_result"
    }
   ],
   "source": [
    "df.sort_values(by='B')"
   ]
  },
  {
   "cell_type": "code",
   "execution_count": 16,
   "metadata": {
    "collapsed": false
   },
   "outputs": [
    {
     "data": {
      "text/plain": [
       "2013-01-01    1.434842\n",
       "2013-01-02    1.750655\n",
       "2013-01-03    0.773283\n",
       "2013-01-04    0.798060\n",
       "2013-01-05    0.868358\n",
       "2013-01-06   -1.409111\n",
       "Freq: D, Name: A, dtype: float64"
      ]
     },
     "execution_count": 16,
     "metadata": {},
     "output_type": "execute_result"
    }
   ],
   "source": [
    "df['A']"
   ]
  },
  {
   "cell_type": "code",
   "execution_count": 17,
   "metadata": {
    "collapsed": false
   },
   "outputs": [
    {
     "data": {
      "text/html": [
       "<div>\n",
       "<table border=\"1\" class=\"dataframe\">\n",
       "  <thead>\n",
       "    <tr style=\"text-align: right;\">\n",
       "      <th></th>\n",
       "      <th>A</th>\n",
       "      <th>B</th>\n",
       "      <th>C</th>\n",
       "      <th>D</th>\n",
       "    </tr>\n",
       "  </thead>\n",
       "  <tbody>\n",
       "    <tr>\n",
       "      <th>2013-01-01</th>\n",
       "      <td>1.434842</td>\n",
       "      <td>0.164035</td>\n",
       "      <td>1.099480</td>\n",
       "      <td>1.564774</td>\n",
       "    </tr>\n",
       "    <tr>\n",
       "      <th>2013-01-02</th>\n",
       "      <td>1.750655</td>\n",
       "      <td>-0.229159</td>\n",
       "      <td>-0.001455</td>\n",
       "      <td>-0.364463</td>\n",
       "    </tr>\n",
       "    <tr>\n",
       "      <th>2013-01-03</th>\n",
       "      <td>0.773283</td>\n",
       "      <td>-0.599245</td>\n",
       "      <td>-0.521495</td>\n",
       "      <td>2.112135</td>\n",
       "    </tr>\n",
       "  </tbody>\n",
       "</table>\n",
       "</div>"
      ],
      "text/plain": [
       "                   A         B         C         D\n",
       "2013-01-01  1.434842  0.164035  1.099480  1.564774\n",
       "2013-01-02  1.750655 -0.229159 -0.001455 -0.364463\n",
       "2013-01-03  0.773283 -0.599245 -0.521495  2.112135"
      ]
     },
     "execution_count": 17,
     "metadata": {},
     "output_type": "execute_result"
    }
   ],
   "source": [
    "df[0:3]"
   ]
  },
  {
   "cell_type": "code",
   "execution_count": null,
   "metadata": {
    "collapsed": true
   },
   "outputs": [],
   "source": []
  }
 ],
 "metadata": {
  "kernelspec": {
   "display_name": "Python 2",
   "language": "python",
   "name": "python2"
  },
  "language_info": {
   "codemirror_mode": {
    "name": "ipython",
    "version": 2
   },
   "file_extension": ".py",
   "mimetype": "text/x-python",
   "name": "python",
   "nbconvert_exporter": "python",
   "pygments_lexer": "ipython2",
   "version": "2.7.11"
  }
 },
 "nbformat": 4,
 "nbformat_minor": 0
}
